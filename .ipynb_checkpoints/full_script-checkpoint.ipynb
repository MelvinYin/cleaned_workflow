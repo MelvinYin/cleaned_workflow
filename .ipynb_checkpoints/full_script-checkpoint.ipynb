{
 "cells": [
  {
   "cell_type": "code",
   "execution_count": null,
   "metadata": {},
   "outputs": [],
   "source": [
    "import shutil\n"
   ]
  },
  {
   "cell_type": "code",
   "execution_count": null,
   "metadata": {},
   "outputs": [],
   "source": [
    "COPY_INIT_SEQS=false\n",
    "RUN_DHCL=false\n",
    "EXTRACT_CONSENSUS=false\n",
    "RUN_MEME=false\n",
    "BUILD_STARTER=false\n",
    "CLEAN_MEME=false\n",
    "MERGE_MEME=false\n",
    "SCREEN_EVALUE=false\n",
    "SCREEN_ENTROPY=false\n",
    "SCREEN_CORRELATED=false\n",
    "SCREEN_NON_COMBI=false\n",
    "MAST_COMBI=true\n",
    "CLUSTER_COMBI=true\n",
    "CREATE_CLUSTER_MOTIFS=true\n",
    "CREATE_CLUSTER_LOGOS=true\n",
    "DELETE_INIT_FASTA=false\n",
    "DELETE_INTERMEDIATE=false\n",
    "\n",
    "# For testing purposes\n",
    "REDUCE_DHCL=false\n",
    "SHRINK_INPUT=false\n",
    "\n",
    "LOG=./files/log.txt\n",
    "TRASH=./files/_trash\n",
    "INPUT_SEQS=./files/input_seqs_copy.fasta\n",
    "INPUT_PDB=./files/input_pdb_test"
   ]
  },
  {
   "cell_type": "code",
   "execution_count": null,
   "metadata": {},
   "outputs": [],
   "source": []
  },
  {
   "cell_type": "code",
   "execution_count": null,
   "metadata": {},
   "outputs": [],
   "source": []
  },
  {
   "cell_type": "code",
   "execution_count": null,
   "metadata": {},
   "outputs": [],
   "source": []
  },
  {
   "cell_type": "code",
   "execution_count": null,
   "metadata": {},
   "outputs": [],
   "source": []
  }
 ],
 "metadata": {
  "kernelspec": {
   "display_name": "Python 3",
   "language": "python",
   "name": "python3"
  },
  "language_info": {
   "codemirror_mode": {
    "name": "ipython",
    "version": 3
   },
   "file_extension": ".py",
   "mimetype": "text/x-python",
   "name": "python",
   "nbconvert_exporter": "python",
   "pygments_lexer": "ipython3",
   "version": "3.6.6"
  }
 },
 "nbformat": 4,
 "nbformat_minor": 2
}
