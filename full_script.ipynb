{
 "cells": [
  {
   "cell_type": "code",
   "execution_count": null,
   "metadata": {},
   "outputs": [],
   "source": [
    "import shutil\n",
    "import os"
   ]
  },
  {
   "cell_type": "code",
   "execution_count": null,
   "metadata": {},
   "outputs": [],
   "source": [
    "COPY_INIT_SEQS=False\n",
    "RUN_DHCL=False\n",
    "EXTRACT_CONSENSUS=False\n",
    "RUN_MEME=False\n",
    "BUILD_STARTER=False\n",
    "CLEAN_MEME=False\n",
    "MERGE_MEME=False\n",
    "SCREEN_EVALUE=False\n",
    "SCREEN_ENTROPY=False\n",
    "SCREEN_CORRELATED=False\n",
    "SCREEN_NON_COMBI=False\n",
    "MAST_COMBI=False\n",
    "CLUSTER_COMBI=False\n",
    "CREATE_CLUSTER_MOTIFS=False\n",
    "CREATE_CLUSTER_LOGOS=False\n",
    "DELETE_INIT_FASTA=False\n",
    "DELETE_INTERMEDIATE=False\n",
    "\n",
    "# For testing purposes\n",
    "REDUCE_DHCL=False\n",
    "SHRINK_INPUT=False\n",
    "\n",
    "LOG=\"files/log.txt\"\n",
    "TRASH=\"files/_trash\"\n",
    "INPUT_SEQS=\"files/input_seqs_copy.fasta\"\n",
    "INPUT_PDB=\"files/input_pdb_test\""
   ]
  },
  {
   "cell_type": "code",
   "execution_count": null,
   "metadata": {},
   "outputs": [],
   "source": [
    "shutil.rmtree(TRASH, ignore_errors=True)\n",
    "os.mkdir(TRASH)\n",
    "open(LOG, 'w').close()\n",
    "\n",
    "# exec > $LOG"
   ]
  },
  {
   "cell_type": "code",
   "execution_count": null,
   "metadata": {},
   "outputs": [],
   "source": [
    "# Use a reduced seq file for testing\n",
    "if SHRINK_INPUT:\n",
    "    print(\"SHRINK_INPUT:\")\n",
    "    python src/shrink_input_for_test.py \\\n",
    "    -seqs $INPUT_SEQS -output $INPUT_SEQS -divideby 100\n",
    "    echo \"Success!\"\n",
    "    echo \"\"\n",
    "# Input: ./files/input_seqs.fasta\n",
    "# Output: ./files/input_seqs.fasta"
   ]
  },
  {
   "cell_type": "code",
   "execution_count": null,
   "metadata": {},
   "outputs": [],
   "source": []
  },
  {
   "cell_type": "code",
   "execution_count": null,
   "metadata": {},
   "outputs": [],
   "source": []
  }
 ],
 "metadata": {
  "kernelspec": {
   "display_name": "Python 3",
   "language": "python",
   "name": "python3"
  },
  "language_info": {
   "codemirror_mode": {
    "name": "ipython",
    "version": 3
   },
   "file_extension": ".py",
   "mimetype": "text/x-python",
   "name": "python",
   "nbconvert_exporter": "python",
   "pygments_lexer": "ipython3",
   "version": "3.6.6"
  }
 },
 "nbformat": 4,
 "nbformat_minor": 2
}
